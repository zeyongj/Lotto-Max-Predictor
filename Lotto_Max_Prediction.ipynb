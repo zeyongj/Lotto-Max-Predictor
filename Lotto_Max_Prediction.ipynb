{
  "nbformat": 4,
  "nbformat_minor": 0,
  "metadata": {
    "colab": {
      "provenance": []
    },
    "kernelspec": {
      "name": "python3",
      "display_name": "Python 3"
    },
    "language_info": {
      "name": "python"
    }
  },
  "cells": [
    {
      "cell_type": "code",
      "source": [
        "from datetime import datetime\n",
        "import numpy as np\n",
        "from sklearn.ensemble import RandomForestRegressor\n",
        "\n",
        "# Define the previous lists A and their corresponding dates\n",
        "previous_lists = [\n",
        "    {'date': '2023-02-14', 'values': [9, 15, 21, 28, 31, 36, 38]},\n",
        "    {'date': '2023-02-10', 'values': [6, 16, 22, 23, 28, 29, 34]},\n",
        "    {'date': '2023-02-07', 'values': [8, 9, 12, 21, 28, 29, 33]},\n",
        "    {'date': '2023-02-03', 'values': [2, 3, 7, 12, 18, 35, 36]},\n",
        "    {'date': '2023-01-31', 'values': [1, 10, 18, 25, 35, 43, 50]},\n",
        "    {'date': '2023-01-27', 'values': [10, 13, 14, 16, 19, 26, 33]},\n",
        "    {'date': '2023-01-24', 'values': [8, 10, 12, 17, 27, 31, 38]},\n",
        "    {'date': '2023-01-20', 'values': [4, 5, 6, 10, 15, 20, 45]},\n",
        "    {'date': '2023-01-17', 'values': [2, 5, 14, 23, 28, 32, 33]},\n",
        "    {'date': '2023-01-13', 'values': [4, 11, 14, 15, 22, 30, 35]},\n",
        "    {'date': '2023-01-10', 'values': [7, 10, 15, 16, 28, 37, 44]},\n",
        "    {'date': '2023-01-06', 'values': [2, 11, 12, 17, 30, 41, 42]},\n",
        "    {'date': '2023-01-03', 'values': [10, 16, 17, 21, 33, 35, 38]},\n",
        "    {'date': '2022-12-30', 'values': [7, 9, 12, 20, 22, 31, 39]},\n",
        "    {'date': '2022-12-27', 'values': [4, 7, 8, 23, 24, 38, 47]},\n",
        "    {'date': '2022-12-23', 'values': [7, 10, 22, 23, 33, 36, 45]},\n",
        "    {'date': '2022-12-20', 'values': [5, 7, 16, 28, 31, 35, 43]},\n",
        "    {'date': '2022-12-16', 'values': [5, 10, 19, 24, 25, 32, 39]},\n",
        "    {'date': '2022-12-13', 'values': [4, 6, 12, 15, 22, 29, 31]},\n",
        "    {'date': '2022-12-09', 'values': [8, 10, 13, 18, 29, 37, 45]},\n",
        "    {'date': '2022-12-06', 'values': [7, 11, 13, 14, 25, 31, 36]},\n",
        "    {'date': '2022-12-02', 'values': [1, 7, 10, 14, 25, 35, 41]},\n",
        "    {'date': '2022-11-29', 'values': [4, 5, 7, 8, 17, 36, 41]},\n",
        "    {'date': '2022-11-25', 'values': [3, 12, 15, 17, 27, 33, 36]},\n",
        "    {'date': '2022-11-22', 'values': [6, 10, 12, 14, 28, 36, 41]},\n",
        "    {'date': '2022-11-18', 'values': [6, 7, 10, 22, 24, 35, 43]},\n",
        "    {'date': '2022-11-15', 'values': [2, 12, 15, 19, 25, 39, 45]},\n",
        "    {'date': '2022-11-11', 'values': [3, 7, 19, 21, 24, 37, 45]},\n",
        "    {'date': '2022-11-08', 'values': [1, 8, 18, 21, 24, 33, 41]},\n",
        "    {'date': '2022-11-04', 'values': [2, 3, 6, 7, 20, 30, 40]},\n",
        "    {'date': '2022-11-01', 'values': [3, 4, 5, 19, 21, 28, 47]},\n",
        "    {'date': '2022-10-28', 'values': [5, 10, 14, 21, 32, 33, 43]},\n",
        "    {'date': '2022-10-25', 'values': [4, 11, 17, 25, 30, 34, 45]},\n",
        "    {'date': '2022-10-21', 'values': [3, 6, 13, 20, 27, 33, 44]},\n",
        "    {'date': '2022-10-18', 'values': [1, 6, 7, 9, 17, 19, 42]},\n",
        "    {'date': '2022-10-14', 'values': [1, 7, 9, 16, 25, 28, 32]},\n",
        "    {'date': '2022-10-11', 'values': [9, 16, 17, 23, 28, 30, 36]},\n",
        "    {'date': '2022-10-07', 'values': [3, 7, 12, 18, 22, 26, 28]},\n",
        "    {'date': '2022-10-04', 'values': [4, 5, 7, 19, 21, 23, 32]},\n",
        "    {'date': '2022-09-30', 'values': [1, 5, 8, 11, 15, 29, 32]},\n",
        "    {'date': '2022-09-27', 'values': [2, 8, 14, 16, 18, 26, 37]},\n",
        "    {'date': '2022-09-23', 'values': [15,17,21,24,28,32,43]},\n",
        "    {'date': '2022-09-20', 'values': [9,10,11,20,24,31,48]},\n",
        "    {'date': '2022-09-16', 'values': [2,13,24,34,39,40,46]},\n",
        "    {'date': '2022-09-13', 'values': [9,10,14,32,35,36,46]},\n",
        "    {'date': '2022-09-09', 'values': [1,2,15,18,29,32,36]},\n",
        "    {'date': '2022-09-06', 'values': [16,22,28,30,41,46,47]},\n",
        "    {'date': '2022-09-02', 'values': [8,17,21,31,34,37,39]},\n",
        "    {'date': '2022-08-30', 'values': [5,8,12,23,39,41,48]},\n",
        "    {'date': '2022-08-26', 'values': [3,11,22,26,29,46,48]},\n",
        "    {'date': '2022-08-23', 'values': [9,13,14,19,37,43,50]},\n",
        "    {'date': '2022-08-19', 'values': [5,20,26,33,35,46,48]},\n",
        "    {'date': '2022-08-16', 'values': [1,2,9,21,32,33,43]},\n",
        "    {'date': '2022-08-12', 'values': [4,10,28,36,40,44,47]},\n",
        "    {'date': '2022-08-09', 'values': [16,19,25,26,27,33,45]},\n",
        "    {'date': '2022-08-05', 'values': [7,16,19,33,36,48,49]},\n",
        "    {'date': '2022-08-02', 'values': [4,5,15,18,22,28,32]},\n",
        "    {'date': '2022-07-29', 'values': [7,14,17,18,19,23,41]},\n",
        "    {'date': '2022-07-26', 'values': [3,8,9,15,21,27,31]},\n",
        "    {'date': '2022-07-22', 'values': [1,9,19,34,37,39,49]},\n",
        "    {'date': '2022-07-19', 'values': [6,9,17,19,31,34,46]},\n",
        "    {'date': '2022-07-15', 'values': [4,7,12,18,29,47,49]},\n",
        "    {'date': '2022-07-12', 'values': [8,11,15,16,26,29,40]},\n",
        "    {'date': '2022-07-08', 'values': [7,12,14,18,46,47,49]},\n",
        "    {'date': '2022-07-05', 'values': [12,29,33,35,38,41,46]},\n",
        "    {'date': '2022-07-01', 'values': [1, 11, 13, 14, 25, 36, 47]},\n",
        "    {'date': '2022-06-28', 'values': [8, 19, 22, 41, 42, 46, 47]},\n",
        "    {'date': '2022-06-24', 'values': [3, 9, 17, 19, 20, 44, 50]},\n",
        "    {'date': '2022-06-21', 'values': [2, 4, 5, 22, 32, 40, 50]},\n",
        "    {'date': '2022-06-17', 'values': [1, 10, 12, 21, 30, 39, 40]},\n",
        "    {'date': '2022-06-14', 'values': [11, 17, 18, 25, 36, 41, 50]},\n",
        "    {'date': '2022-06-10', 'values': [8, 14, 16, 17, 19, 22, 24]},\n",
        "    {'date': '2022-06-07', 'values': [6, 13, 17, 20, 28, 36, 44]},\n",
        "    {'date': '2022-06-03', 'values': [2, 16, 17, 21, 38, 43, 45]},\n",
        "    {'date': '2022-05-31', 'values': [6, 13, 23, 27, 35, 44, 50]},\n",
        "    {'date': '2022-05-27', 'values': [4, 9, 21, 22, 27, 31, 34]},\n",
        "    {'date': '2022-05-24', 'values': [12, 26, 30, 31, 35, 39, 45]},\n",
        "    {'date': '2022-05-20', 'values': [5, 6, 20, 29, 42, 44, 47]},\n",
        "    {'date': '2022-05-17', 'values': [10, 35, 38, 40, 45, 47, 48]},\n",
        "    {'date': '2022-05-13', 'values': [2, 22, 37, 38, 39, 42, 47]},\n",
        "    {'date': '2022-05-10', 'values': [6, 15, 18, 19, 20, 27, 28]},\n",
        "    {'date': '2022-05-06', 'values': [3, 6, 11, 18, 19, 28, 41]},\n",
        "    {'date': '2022-05-03', 'values': [6, 11, 22, 24, 27, 29, 33]},\n",
        "    {'date': '2022-04-29', 'values': [8, 9, 19, 32, 37, 46, 48]},\n",
        "    {'date': '2022-04-26', 'values': [3, 10, 15, 31, 35, 38, 42]},\n",
        "    {'date': '2022-04-22', 'values': [13, 14, 23, 30, 34, 36, 42]},\n",
        "    {'date': '2022-04-19', 'values': [1, 6, 10, 27, 42, 45, 50]},\n",
        "    {'date': '2022-04-15', 'values': [1, 6, 18, 21, 30, 32, 37]},\n",
        "    {'date': '2022-04-12', 'values': [3, 5, 7, 19, 32, 34, 50]},\n",
        "    {'date': '2022-04-08', 'values': [1, 2, 14, 15, 21, 26, 29]},\n",
        "    {'date': '2022-04-05', 'values': [14, 24, 34, 39, 43, 48, 50]},\n",
        "    {'date': '2022-04-01', 'values': [7, 10, 18, 29, 38, 43, 50]},\n",
        "    {'date': '2022-03-29', 'values': [7, 17, 32, 34, 39, 45, 47]},\n",
        "    {'date': '2022-03-25', 'values': [3, 7, 16, 18, 27, 32, 37]},\n",
        "    {'date': '2022-03-22', 'values': [14, 16, 20, 26, 33, 36, 48]},\n",
        "    {'date': '2022-03-18', 'values': [5, 7, 12, 18, 26, 29, 46]},\n",
        "    {'date': '2022-03-15', 'values': [3, 7, 12, 17, 23, 38, 40]},\n",
        "    {'date': '2022-03-11', 'values': [5, 7, 12, 22, 28, 43, 47]},\n",
        "    {'date': '2022-03-08', 'values': [10, 12, 13, 18, 25, 26, 37]},\n",
        "    {'date': '2022-03-04', 'values': [2, 4, 14, 18, 24, 46, 47]},\n",
        "    {'date': '2022-03-01', 'values': [5, 6, 28, 36, 40, 46, 50]}\n",
        "    ]\n"
      ],
      "metadata": {
        "id": "ZuCPFynWnysq"
      },
      "execution_count": 1,
      "outputs": []
    },
    {
      "cell_type": "code",
      "source": [
        "for list_info in previous_lists:\n",
        "    date = datetime.strptime(list_info['date'], '%Y-%m-%d')\n",
        "    weekday = date.weekday()\n",
        "    week_num = date.isocalendar()[1]\n",
        "    list_info['weekday'] = weekday\n",
        "    list_info['week_num'] = week_num"
      ],
      "metadata": {
        "id": "cbtApel-n0Cw"
      },
      "execution_count": 2,
      "outputs": []
    },
    {
      "cell_type": "code",
      "source": [
        "# Convert the previous lists to a feature matrix X and a target vector y\n",
        "X = np.empty((len(previous_lists), 59))\n",
        "y = np.empty((len(previous_lists), 7))\n",
        "for i, list_info in enumerate(previous_lists):\n",
        "    values = list_info['values']\n",
        "    weekday = list_info['weekday']\n",
        "    week_num = list_info['week_num']\n",
        "    freqs = np.array([values.count(j) for j in range(1, 51)])\n",
        "    X[i] = np.concatenate([values, freqs, [weekday, week_num]])\n",
        "    y[i] = values"
      ],
      "metadata": {
        "id": "pmLriR2an7Eo"
      },
      "execution_count": 3,
      "outputs": []
    },
    {
      "cell_type": "code",
      "source": [
        "# Train a random forest regression model\n",
        "model = RandomForestRegressor(n_estimators=100, random_state=42)\n",
        "model.fit(X, y)"
      ],
      "metadata": {
        "colab": {
          "base_uri": "https://localhost:8080/"
        },
        "id": "EwSPjaGdo1pg",
        "outputId": "8b6c6224-883c-4bcb-80d8-35e38f84874a"
      },
      "execution_count": 4,
      "outputs": [
        {
          "output_type": "execute_result",
          "data": {
            "text/plain": [
              "RandomForestRegressor(random_state=42)"
            ]
          },
          "metadata": {},
          "execution_count": 4
        }
      ]
    },
    {
      "cell_type": "code",
      "source": [
        "# Make a prediction for the next list A\n",
        "today = datetime.today().date()\n",
        "weekday = today.weekday()\n",
        "week_num = today.isocalendar()[1]\n",
        "freqs = np.vstack([np.array([list_info['values'].count(j) for j in range(1, 51)]) for list_info in previous_lists])\n",
        "weekday_weeknum = np.array([weekday, week_num])[np.newaxis, :]\n",
        "weekday_weeknum = np.tile(weekday_weeknum, (len(previous_lists), 1))\n",
        "X_next = np.concatenate([freqs, weekday_weeknum], axis=1)\n",
        "\n",
        "# Find the missing feature indices\n",
        "missing_features = set(range(X.shape[1])) - set(range(X_next.shape[1]))\n",
        "\n",
        "# Add the missing zero-valued features to X_next\n",
        "for i in missing_features:\n",
        "    X_next = np.insert(X_next, i, 0, axis=1)\n",
        "\n",
        "y_next = model.predict(X_next)[0]"
      ],
      "metadata": {
        "id": "34P7Stkuo5Yh"
      },
      "execution_count": 5,
      "outputs": []
    },
    {
      "cell_type": "code",
      "source": [
        "# Print the predicted next list A\n",
        "print('The predicted next list A is:')\n",
        "print(np.sort(np.round(y_next).astype(int)))"
      ],
      "metadata": {
        "colab": {
          "base_uri": "https://localhost:8080/"
        },
        "id": "PlD9ruh8q0E_",
        "outputId": "d13862fb-5c82-4cb6-a536-c352cee2b3e3"
      },
      "execution_count": 6,
      "outputs": [
        {
          "output_type": "stream",
          "name": "stdout",
          "text": [
            "The predicted next list A is:\n",
            "[ 3  6  9 13 18 26 34]\n"
          ]
        }
      ]
    }
  ]
}